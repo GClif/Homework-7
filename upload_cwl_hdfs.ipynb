{
 "cells": [
  {
   "cell_type": "code",
   "execution_count": 1,
   "metadata": {},
   "outputs": [],
   "source": [
    "from hdfs import InsecureClient"
   ]
  },
  {
   "cell_type": "code",
   "execution_count": 2,
   "metadata": {},
   "outputs": [],
   "source": [
    "client = InsecureClient('http://namenode:50070', user='root')"
   ]
  },
  {
   "cell_type": "code",
   "execution_count": 3,
   "metadata": {},
   "outputs": [],
   "source": [
    "client.makedirs('/Users')"
   ]
  },
  {
   "cell_type": "code",
   "execution_count": 4,
   "metadata": {},
   "outputs": [],
   "source": [
    "client.makedirs('/Users/vagrant')"
   ]
  },
  {
   "cell_type": "code",
   "execution_count": 6,
   "metadata": {},
   "outputs": [],
   "source": [
    "client.set_owner('/Users/vagrant', owner = 'vagrant', group='vagrant')"
   ]
  },
  {
   "cell_type": "code",
   "execution_count": 7,
   "metadata": {},
   "outputs": [],
   "source": [
    "client = InsecureClient('http://namenode:50070', user='vagrant')"
   ]
  },
  {
   "cell_type": "code",
   "execution_count": 8,
   "metadata": {},
   "outputs": [
    {
     "data": {
      "text/plain": [
       "'/Users/vagrant/structured-2018-01-14-neworleans'"
      ]
     },
     "execution_count": 8,
     "metadata": {},
     "output_type": "execute_result"
    }
   ],
   "source": [
    "client.upload('/Users/vagrant/structured-2018-01-14-neworleans','/home/vagrant/projects/week7/cwl-data/data/structured/structured-2018-01-14-neworleans' )\n",
    "client.upload('/Users/vagrant/tructured-2018-03-11-atlanta','/home/vagrant/projects/week7/cwl-data/data/tructured-2018-03-11-atlanta' )\n",
    "client.upload('/Users/vagrant/structured-2018-04-01-birmingham','/home/vagrant/projects/week7/cwl-data/data/structured/structured-2018-04-01-birmingham' )\n",
    "client.upload('/Users/vagrant/structured-2018-04-08-proleague1','/home/vagrant/projects/week7/cwl-data/data/structured/structured-2018-04-08-proleague1' )\n",
    "client.upload('/Users/vagrant/sstructured-2018-04-19-relegation','/home/vagrant/projects/week7/cwl-data/data/structured/structured-2018-04-19-relegation' )"
   ]
  },
  {
   "cell_type": "code",
   "execution_count": 11,
   "metadata": {},
   "outputs": [
    {
     "data": {
      "text/plain": [
       "'/Users/vagrant/structured-2018-08-19-champs'"
      ]
     },
     "execution_count": 11,
     "metadata": {},
     "output_type": "execute_result"
    }
   ],
   "source": [
    "client.upload('/Users/vagrant/structured-2018-04-22-seattle','/home/vagrant/projects/week7/cwl-data/data/structured/structured-2018-04-22-seattle' )\n",
    "client.upload('/Users/vagrant/structured-2018-06-17-anaheim','/home/vagrant/projects/week7/cwl-data/data/structured/structured-2018-06-17-anaheim' )\n",
    "client.upload('/Users/vagrant/structured-2018-07-29-proleague2','/home/vagrant/projects/week7/cwl-data/data/structured/structured-2018-07-29-proleague2' )\n",
    "client.upload('/Users/vagrant/structured-2018-08-19-champs','/home/vagrant/projects/week7/cwl-data/data/structured/structured-2018-08-19-champs' )"
   ]
  },
  {
   "cell_type": "code",
   "execution_count": 12,
   "metadata": {},
   "outputs": [
    {
     "data": {
      "text/plain": [
       "['structured-2018-01-14-neworleans',\n",
       " 'structured-2018-03-11-atlanta',\n",
       " 'structured-2018-04-01-birmingham',\n",
       " 'structured-2018-04-08-proleague1',\n",
       " 'structured-2018-04-19-relegation',\n",
       " 'structured-2018-04-22-seattle',\n",
       " 'structured-2018-06-17-anaheim',\n",
       " 'structured-2018-07-29-proleague2',\n",
       " 'structured-2018-08-19-champs']"
      ]
     },
     "execution_count": 12,
     "metadata": {},
     "output_type": "execute_result"
    }
   ],
   "source": [
    "client.list('/Users/vagrant')"
   ]
  },
  {
   "cell_type": "code",
   "execution_count": null,
   "metadata": {},
   "outputs": [],
   "source": []
  }
 ],
 "metadata": {
  "kernelspec": {
   "display_name": "Python 3",
   "language": "python",
   "name": "python3"
  },
  "language_info": {
   "codemirror_mode": {
    "name": "ipython",
    "version": 3
   },
   "file_extension": ".py",
   "mimetype": "text/x-python",
   "name": "python",
   "nbconvert_exporter": "python",
   "pygments_lexer": "ipython3",
   "version": "3.7.2"
  }
 },
 "nbformat": 4,
 "nbformat_minor": 2
}
